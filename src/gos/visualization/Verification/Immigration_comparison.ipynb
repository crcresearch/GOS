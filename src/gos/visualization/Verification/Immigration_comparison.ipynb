{
 "cells": [
  {
   "cell_type": "code",
   "execution_count": null,
   "metadata": {},
   "outputs": [],
   "source": [
    "import numpy as np\n",
    "import pandas as pd\n",
    "import matplotlib\n",
    "import matplotlib.pyplot as plt"
   ]
  },
  {
   "cell_type": "code",
   "execution_count": null,
   "metadata": {},
   "outputs": [],
   "source": [
    "%matplotlib inline"
   ]
  },
  {
   "cell_type": "code",
   "execution_count": null,
   "metadata": {},
   "outputs": [],
   "source": [
    "def file_path(name):\n",
    "    return \"./data/%s\" % name"
   ]
  },
  {
   "cell_type": "code",
   "execution_count": null,
   "metadata": {},
   "outputs": [],
   "source": [
    "def inflow():\n",
    "    inflow_pd = pd.read_csv(file_path(\"oecd_inflow.csv\"), skiprows = 6)\n",
    "    inflow_np = np.array(inflow_pd)\n",
    "    return inflow_pd"
   ]
  },
  {
   "cell_type": "code",
   "execution_count": null,
   "metadata": {},
   "outputs": [],
   "source": [
    "def immigration():\n",
    "    immigration_pd = pd.read_csv(file_path(\"immigration.csv\"))\n",
    "    immigration_np = np.array(immigration_pd)\n",
    "    return immigration_pd"
   ]
  },
  {
   "cell_type": "code",
   "execution_count": null,
   "metadata": {},
   "outputs": [],
   "source": [
    "inflow_pd = pd.read_csv(file_path(\"oecd_inflow.csv\"), skiprows = 6)\n",
    "inflow_pd = inflow_pd.set_index('Country')\n",
    "inflow_pd = inflow_pd.iloc[0:35,34]\n",
    "inflow_pd = inflow_pd.drop(labels = ['GRC'])\n",
    "inflow_pd"
   ]
  },
  {
   "cell_type": "code",
   "execution_count": null,
   "metadata": {},
   "outputs": [],
   "source": [
    "#issues with decimal place\n",
    "immigration_pd = pd.read_csv(file_path(\"immigration.csv\"))\n",
    "immigration_pd"
   ]
  },
  {
   "cell_type": "code",
   "execution_count": null,
   "metadata": {},
   "outputs": [],
   "source": [
    "data = pd.merge(immigration_pd, inflow_pd, on = 'Country')\n",
    "data"
   ]
  },
  {
   "cell_type": "code",
   "execution_count": null,
   "metadata": {},
   "outputs": [],
   "source": [
    "#immigration John gave me\n",
    "#np.set_printoptions(suppress=True,\n",
    "   #formatter={'float_kind':'{:0.2f}'.format})\n",
    "a = data.iloc[:,1].values\n",
    "np.set_printoptions(suppress=True)\n",
    "a = np.round(a)\n",
    "a"
   ]
  },
  {
   "cell_type": "code",
   "execution_count": null,
   "metadata": {},
   "outputs": [],
   "source": [
    "#numbers im comparing to\n",
    "new_list = []\n",
    "b = (data.iloc[:,2].values)\n",
    "\n",
    "for item in b:\n",
    "    new_list.append(float(item))\n",
    "#map(float, b)\n",
    "#[float(i) for i in b]\n",
    "#res = b.astype(np.float)\n",
    "#b = np.fromstring(b, dtype = np.float)\n",
    "#bp = b.astype(pd.float)\n",
    "new_list"
   ]
  },
  {
   "cell_type": "code",
   "execution_count": null,
   "metadata": {},
   "outputs": [],
   "source": [
    "#countries\n",
    "c = data.iloc[:,0].values\n",
    "c"
   ]
  },
  {
   "cell_type": "code",
   "execution_count": null,
   "metadata": {},
   "outputs": [],
   "source": [
    "#UNSORTED IMMIGRATION GRAPH (not in ascending order)\n",
    "\n",
    "#x = np.arange(len(c))\n",
    "#width = 0.35\n",
    "\n",
    "#fig, ax = plt.subplots(figsize = (30,15))\n",
    "#rects1 = ax.bar(x - width/2, a, width, label = 'original that john gave me')\n",
    "#rects2 = ax.bar(x + width/2, new_list, width, label = 'comparison')\n",
    "#ax.set_xticks(x)\n",
    "#ax.set_xticklabels(c)\n",
    "#plt.legend(loc=2)\n",
    "\n",
    "#start, end = ax.get_ylim()\n",
    "#ax.yaxis.set_ticks(np.arange(start, end, 0.712123))\n",
    "\n",
    "#def autolabel(rects):\n",
    "    #for rect in rects:\n",
    "        #height = rect.get_height()\n",
    "        #ax.annotate('{}'.format(height),\n",
    "                    #xy=(rect.get_x() + rect.get_width() / 2, height),\n",
    "                    #xytext=(0, 3),  # 3 points vertical offset\n",
    "                    #textcoords=\"offset points\",\n",
    "                    #ha='center', va='bottom')\n",
    "\n",
    "\n",
    "#autolabel(rects1)\n",
    "#autolabel(rects2)\n",
    "#plt.show()"
   ]
  },
  {
   "cell_type": "code",
   "execution_count": null,
   "metadata": {},
   "outputs": [],
   "source": [
    "#label = data['Country']\n",
    "#comparison_data = data[['0']]\n",
    "#original_data = data[['Unnamed: 35']]\n",
    "#width = 0.35\n",
    "#r1 = np.arange(len(comparison_data))\n",
    "#r2 = [x + width for x in r1]\n",
    "#plt.bar(r1, a)\n",
    "#plt.bar(r2, original_data)\n",
    "#plt.show()\n",
    "#fig, ax = plt.subplots()\n",
    "#rects1 = ax.bar(x - width/2, comparison_data, width, label = 'comparison')\n",
    "#rects2 = ax.bar(x + width/2, original_data, width, label = 'original')\n",
    "#plt.hist(rects1)"
   ]
  },
  {
   "cell_type": "code",
   "execution_count": null,
   "metadata": {},
   "outputs": [],
   "source": [
    "a.sort()\n",
    "print(a)"
   ]
  },
  {
   "cell_type": "code",
   "execution_count": null,
   "metadata": {},
   "outputs": [],
   "source": [
    "#ammending it so that USA is only 5 million to show other vals more clearly b/c real value is so much higher\n",
    "a_resorted = [9686.00, 10503.00, 12966.00, 14795.00, 28383.00, 40855.00, 64075.00, 76044.00,\n",
    " 87459.00, 100417.00, 120147.00, 138630.00, 187915.00, 212854.00, 218431.00,\n",
    " 225077.00, 241069.00, 256779.00, 272968.00, 286377.00, 297956.00, 433809.00,\n",
    " 572041.00, 671711.00, 732241.00, 754027.00, 936581.00, 993953.00, 1298253.00,\n",
    " 1601229.00, 2109282.00, 3086860.00, 5000000.00]"
   ]
  },
  {
   "cell_type": "code",
   "execution_count": null,
   "metadata": {},
   "outputs": [],
   "source": [
    "b_resorted = [7693,\n",
    "3448,\n",
    "7859,\n",
    "20028,\n",
    "3610,\n",
    "23803,\n",
    "34808,\n",
    "21557,\n",
    "46921,\n",
    "135490,\n",
    "27274,\n",
    "107038,\n",
    "54641,\n",
    "53900,\n",
    "25977,\n",
    "158746,\n",
    "103187,\n",
    "380921,\n",
    "58508,\n",
    "142986,\n",
    "35906,\n",
    "182160,\n",
    "352174,\n",
    "143100,\n",
    "402203,\n",
    "218488,\n",
    "296385,\n",
    "262929,\n",
    "245663,\n",
    "455000,\n",
    "1719075,\n",
    "427585,\n",
    "1183505]"
   ]
  },
  {
   "cell_type": "code",
   "execution_count": null,
   "metadata": {},
   "outputs": [],
   "source": [
    "c_resorted = ['EST','LVA','ISL','SVN','SVK','HUN','CZE','LUX','PRT','CHL','FIN','POL','DNK','IRL','ISR','AUT',\n",
    "              'BEL','TUR','NOR','SWE','MEX','NLD','ESP','CHE','KOR','AUS','CAN','ITA','FRA','GBR','DEU','JPN',\n",
    "              'USA']"
   ]
  },
  {
   "cell_type": "code",
   "execution_count": null,
   "metadata": {},
   "outputs": [],
   "source": [
    "x = np.arange(len(c_resorted))\n",
    "width = 0.35\n",
    "\n",
    "fig, ax = plt.subplots(figsize = (30,15))\n",
    "rects1 = ax.bar(x - width/2, a_resorted, width, label = 'Immigration Prediction of our Model in 2015')\n",
    "rects2 = ax.bar(x + width/2, b_resorted, width, label = 'OECD Inflow Data 2017')\n",
    "ax.set_xticks(x)\n",
    "ax.set_xticklabels(c_resorted, fontsize = 20)\n",
    "ax.set_title('Immigration Prediction of Our Model Compared to OECD Inflow Data', fontsize = 30, x = .5, y = 1.05)\n",
    "ax.set_ylabel('Number of immigrants (in millions)', fontsize = 25);\n",
    "ax.set_xlabel('Country', fontsize = 25)\n",
    "plt.figtext(0.1, 0.01, \"USA original value = 18180729.00\", ha=\"center\", fontsize=30)\n",
    "#matplotlib.pyplot.annotate('annotate', xy=(30, 5), xytext=(23, 14),\n",
    "            #arrowprops=dict(facecolor='black', shrink=0.05))\n",
    "plt.yticks(fontsize=20)\n",
    "plt.legend(loc=2, prop={\"size\":20})\n",
    "\n",
    "#start, end = ax.get_ylim()\n",
    "#ax.yaxis.set_ticks(np.arange(start, end, 0.712123))\n",
    "\n",
    "def autolabel(rects):\n",
    "    for rect in rects:\n",
    "        height = rect.get_height()\n",
    "        ax.annotate('{}'.format(height),\n",
    "                    xy=(rect.get_x() + rect.get_width() / 2, height),\n",
    "                    xytext=(0, 3),  # 3 points vertical offset\n",
    "                    textcoords=\"offset points\",\n",
    "                    ha='center', va='bottom', rotation = 'vertical', fontsize = 17, fontweight = 'bold')\n",
    "\n",
    "\n",
    "autolabel(rects1)\n",
    "autolabel(rects2)\n",
    "plt.show()"
   ]
  },
  {
   "cell_type": "code",
   "execution_count": null,
   "metadata": {},
   "outputs": [],
   "source": [
    "#fig = plt.figure()\n",
    "#ax = fig.add_axes([0,0,3,3])\n",
    "#ax.bar(c,new_list)\n",
    "#plt.show()"
   ]
  },
  {
   "cell_type": "code",
   "execution_count": null,
   "metadata": {},
   "outputs": [],
   "source": [
    "#fig = plt.figure()\n",
    "#ax = fig.add_axes([0,0,3,3])\n",
    "#ax.bar(c,a)\n",
    "#plt.show()"
   ]
  },
  {
   "cell_type": "code",
   "execution_count": null,
   "metadata": {},
   "outputs": [],
   "source": []
  }
 ],
 "metadata": {
  "kernelspec": {
   "display_name": "Python 3.8",
   "language": "python",
   "name": "python3"
  },
  "language_info": {
   "codemirror_mode": {
    "name": "ipython",
    "version": 3
   },
   "file_extension": ".py",
   "mimetype": "text/x-python",
   "name": "python",
   "nbconvert_exporter": "python",
   "pygments_lexer": "ipython3"
  }
 },
 "nbformat": 4,
 "nbformat_minor": 4
}
