{
 "cells": [
  {
   "cell_type": "code",
   "execution_count": null,
   "metadata": {},
   "outputs": [],
   "source": [
    "import numpy as np\n",
    "import pandas as pd\n",
    "import matplotlib\n",
    "import matplotlib.pyplot as plt"
   ]
  },
  {
   "cell_type": "code",
   "execution_count": null,
   "metadata": {},
   "outputs": [],
   "source": [
    "%matplotlib inline"
   ]
  },
  {
   "cell_type": "code",
   "execution_count": null,
   "metadata": {},
   "outputs": [],
   "source": [
    "def file_path(name):\n",
    "    return \"./data/%s\" % name"
   ]
  },
  {
   "cell_type": "code",
   "execution_count": null,
   "metadata": {},
   "outputs": [],
   "source": [
    "def un_stock():\n",
    "    un_pd = pd.read_csv(file_path(\"ROC_migrant_stock.csv\"), skiprows = 15)\n",
    "    \n",
    "    un_np = np.array(un_pd)\n",
    "    #ccountry_names = un_np[:,1]\n",
    "    #num_codes = un_np[:,3]\n",
    "    return un_pd"
   ]
  },
  {
   "cell_type": "code",
   "execution_count": null,
   "metadata": {},
   "outputs": [],
   "source": [
    "def num_migrants():\n",
    "    df_pd = pd.read_csv(file_path(\"net_num_migrants2.csv\"), skiprows = 15)\n",
    "    \n",
    "    df_np = np.array(df_pd)\n",
    "    return df_pd"
   ]
  },
  {
   "cell_type": "code",
   "execution_count": null,
   "metadata": {},
   "outputs": [],
   "source": [
    "def net_migration():\n",
    "    net_pd = pd.read_csv(file_path(\"net_migration.csv\"))\n",
    "    \n",
    "    net_np = np.array(net_pd)\n",
    "    return net_pd"
   ]
  },
  {
   "cell_type": "code",
   "execution_count": null,
   "metadata": {},
   "outputs": [],
   "source": [
    "def matrix_formula(name, name2):\n",
    "    return name * name2"
   ]
  },
  {
   "cell_type": "code",
   "execution_count": null,
   "metadata": {},
   "outputs": [],
   "source": [
    "#problem: these net migration numbers are from 2015-2019, want yearly data\n",
    "df_pd = pd.read_csv(file_path(\"net_num_migrants2.csv\"), skiprows = 15)\n",
    "\n",
    "df_pd = df_pd.set_index('Unnamed: 2')\n",
    "df_pd = df_pd.iloc[0:275,19]\n",
    "\n",
    "#index = pd.Index(df_pd)\n",
    "#index.rename(df_pd, 'Country', inplace=0) \n",
    "\n",
    "df_pd = df_pd.sort_index().fillna(1)\n",
    "df_pd"
   ]
  },
  {
   "cell_type": "code",
   "execution_count": null,
   "metadata": {},
   "outputs": [],
   "source": [
    "net_pd = pd.read_csv(file_path(\"net_migration.csv\"))\n",
    "net_pd = net_pd.set_index('Country')\n",
    "net_pd"
   ]
  },
  {
   "cell_type": "code",
   "execution_count": null,
   "metadata": {},
   "outputs": [],
   "source": [
    "mergedDf = net_pd.merge(df_pd, left_index=True, right_index=True)\n",
    "pd.options.display.float_format = '{:.4f}'.format\n",
    "\n",
    "#removing countries not in top 50 GDP\n",
    "#Hong Kong country w top GDP but not a value w immigration stats\n",
    "#missing migration data for venezuela, vietnam, saudi arabia, south korea, iran, romania, taiwan\n",
    "#UAE, Belguim, Singapore\n",
    "mergedDf = mergedDf.drop([\"Albania\", \"Armenia\", \"Azerbaijan\", \"Burkina Faso\", \"Bulgaria\", \n",
    "                          \"Bosnia and Herzegovina\", \"Belarus\", \"Belize\", \"Uzbekistan\", \"Vanuatu\",\n",
    "                         \"Yemen\",\"Zambia\", \"Uruguay\", \"Tunisia\", \"Trinidad and Tobago\", \"Tonga\",\n",
    "                         \"Turkmenistan\", \"Tajikistan\", \"Seychelles\", \"Eswatini\", \"Bhutan\",\n",
    "                         \"Botswana\", \"Central African Republic\", \"Cameroon\", \"Congo\", \"Comoros\",\n",
    "                         \"Cabo Verde\", \"Costa Rica\", \"Cyprus\", \"Djibouti\", \"Denmark\",\n",
    "                         \"Dominican Republic\", \"Estonia\", \"Ethiopia\", \"Finland\", \"Fiji\", \"Gabon\",\n",
    "                         \"Georgia\", \"Ghana\", \"Greece\", \"Guatemala\", \"Honduras\", \"Croatia\", \"Haiti\",\n",
    "                         \"Hungary\", \"Ireland\", \"Iceland\", \"Israel\", \"Jamaica\", \"Jordan\", \"Kenya\",\n",
    "                         \"Kyrgyzstan\", \"Kiribati\", \"Liberia\", \"Sri Lanka\", \"Lesotho\", \"Lithuania\",\n",
    "                         \"Luxembourg\", \"Latvia\", \"Morocco\", \"Maldives\", \"Mali\", \"Mongolia\",\n",
    "                         \"Montenegro\", \"Mozambique\", \"Mauritius\", \"Martinique\", \"Namibia\", \"Niger\",\n",
    "                         \"Nicaragua\", \"Nepal\", \"Panama\", \"Papua New Guinea\", \"Portugal\", \"Paraguay\",\n",
    "                         \"Sudan\", \"Senegal\", \"Sierra Leone\", \"El Salvador\", \"Serbia\", \"Sao Tome and Principe\",\n",
    "                         \"Slovakia\", \"Slovenia\", \"Suriname\"], axis = 0)\n",
    "mergedDf\n",
    "#pd.merge(df_pd, net_pd, on = Index)"
   ]
  },
  {
   "cell_type": "code",
   "execution_count": null,
   "metadata": {},
   "outputs": [],
   "source": [
    "countries = list(mergedDf.index.values)\n",
    "countries"
   ]
  },
  {
   "cell_type": "code",
   "execution_count": null,
   "metadata": {},
   "outputs": [],
   "source": [
    "total_rows = len(mergedDf.axes[0])\n",
    "total_rows"
   ]
  },
  {
   "cell_type": "code",
   "execution_count": null,
   "metadata": {},
   "outputs": [],
   "source": [
    "#scaling US value\n",
    "mergedDf.iat[36,0]"
   ]
  },
  {
   "cell_type": "code",
   "execution_count": null,
   "metadata": {},
   "outputs": [],
   "source": [
    "#mergedDf.replace({\"United States of America\": 18172697.73,\n",
    "                # \"United States of America\": 500000})\n",
    "#mergedDf.replace(to_replace = 18172697.73, \n",
    "                 #value = 5000000)\n",
    "#mergedDf.iat[36,0]= 20\n",
    "#mergedDf"
   ]
  },
  {
   "cell_type": "code",
   "execution_count": null,
   "metadata": {},
   "outputs": [],
   "source": [
    "mergedDf.iat[36,0] = 1000000"
   ]
  },
  {
   "cell_type": "code",
   "execution_count": null,
   "metadata": {},
   "outputs": [],
   "source": [
    "a = (mergedDf.iloc[:,0].values)\n",
    "np.set_printoptions(suppress=True)\n",
    "a = np.round(a)\n",
    "a"
   ]
  },
  {
   "cell_type": "code",
   "execution_count": null,
   "metadata": {},
   "outputs": [],
   "source": [
    "b = (mergedDf.iloc[:,1].values)\n",
    "k = []\n",
    "\n",
    "for i in b:\n",
    "    j = i.replace(' ','')\n",
    "    k.append(j)\n",
    "print (k)"
   ]
  },
  {
   "cell_type": "code",
   "execution_count": null,
   "metadata": {},
   "outputs": [],
   "source": [
    "new_list = []\n",
    "for i in k:\n",
    "    new_list.append(float(i))\n",
    "    \n",
    "new_list"
   ]
  },
  {
   "cell_type": "code",
   "execution_count": null,
   "metadata": {},
   "outputs": [],
   "source": [
    "my_new_list = [i * 1000 for i in new_list]\n",
    "print(my_new_list)"
   ]
  },
  {
   "cell_type": "code",
   "execution_count": null,
   "metadata": {},
   "outputs": [],
   "source": [
    "x = np.arange(len(countries))  # the label locations\n",
    "width = 0.3  # the width of the bars\n",
    "\n",
    "fig, ax = plt.subplots(figsize=(30,20))\n",
    "rects1 = ax.bar(x - width/2, a, width, label='Net Migration Prediction of our Model')\n",
    "rects2 = ax.bar(x + width/2, my_new_list, width, label='UN Population Division Net Migration Data from 2015-2020')\n",
    "ax.set_xticks(x)\n",
    "ax.set_xticklabels(countries, rotation = 'vertical', fontsize=20)\n",
    "ax.set_title('Net Migration Prediction Compared to UN Population Division Data', fontsize = 30, x = .5, y = 1.05)\n",
    "ax.set_xlabel('Country', fontsize = 25)\n",
    "ax.set_ylabel('Net Migration (in millions)', fontsize = 25)\n",
    "plt.yticks(fontsize=20)\n",
    "plt.legend(loc=2, prop={\"size\":20})\n",
    "\n",
    "\n",
    "def autolabel(rects):\n",
    "    for rect in rects:\n",
    "        height = rect.get_height()\n",
    "        ax.annotate('{}'.format(height),\n",
    "                    xy=(rect.get_x() + rect.get_width() / 2, height),\n",
    "                    xytext=(0, 3),  # 3 points vertical offset\n",
    "                    textcoords=\"offset points\",\n",
    "                    ha='center', va='bottom', fontsize = 17, rotation = 'vertical', fontweight = 'bold')\n",
    "\n",
    "\n",
    "autolabel(rects1)\n",
    "autolabel(rects2)\n",
    "plt.show()"
   ]
  },
  {
   "cell_type": "code",
   "execution_count": null,
   "metadata": {},
   "outputs": [],
   "source": [
    "#x = np.arange(len(countries))\n",
    "#fig = plt.figure()\n",
    "#ax = fig.add_axes([0,0,3,3])\n",
    "#ax.bar(countries,a)\n",
    "#ax.set_xticks(x)\n",
    "#ax.set_xticklabels(countries, rotation = 'vertical')\n",
    "#plt.show()"
   ]
  },
  {
   "cell_type": "code",
   "execution_count": null,
   "metadata": {},
   "outputs": [],
   "source": []
  }
 ],
 "metadata": {
  "kernelspec": {
   "display_name": "Python 3.8",
   "language": "python",
   "name": "python3"
  },
  "language_info": {
   "codemirror_mode": {
    "name": "ipython",
    "version": 3
   },
   "file_extension": ".py",
   "mimetype": "text/x-python",
   "name": "python",
   "nbconvert_exporter": "python",
   "pygments_lexer": "ipython3"
  }
 },
 "nbformat": 4,
 "nbformat_minor": 4
}
