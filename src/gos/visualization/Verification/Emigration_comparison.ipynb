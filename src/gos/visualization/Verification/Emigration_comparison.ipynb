{
 "cells": [
  {
   "cell_type": "code",
   "execution_count": null,
   "metadata": {},
   "outputs": [],
   "source": [
    "import numpy as np\n",
    "import pandas as pd\n",
    "import matplotlib\n",
    "import matplotlib.pyplot as plt"
   ]
  },
  {
   "cell_type": "code",
   "execution_count": null,
   "metadata": {},
   "outputs": [],
   "source": [
    "%matplotlib inline"
   ]
  },
  {
   "cell_type": "code",
   "execution_count": null,
   "metadata": {},
   "outputs": [],
   "source": [
    "def file_path(name):\n",
    "    return \"./data/%s\" % name"
   ]
  },
  {
   "cell_type": "code",
   "execution_count": null,
   "metadata": {},
   "outputs": [],
   "source": [
    "def emigration():\n",
    "    em_pd = pd.read_csv(file_path(\"emigration.csv\"))\n",
    "    em_np = np.array(em_pd)\n",
    "    return em_pd"
   ]
  },
  {
   "cell_type": "code",
   "execution_count": null,
   "metadata": {},
   "outputs": [],
   "source": [
    "def outflow():\n",
    "    outflow_pd = pd.read_csv(file_path(\"outflow.csv\"), skiprows = 6)\n",
    "    outflow_np = np.array(outflow_pd)\n",
    "    return outflow_pd"
   ]
  },
  {
   "cell_type": "code",
   "execution_count": null,
   "metadata": {},
   "outputs": [],
   "source": [
    "em_pd = pd.read_csv(file_path(\"emigration.csv\"))\n",
    "em_pd = em_pd.set_index('Country')\n",
    "em_pd"
   ]
  },
  {
   "cell_type": "code",
   "execution_count": null,
   "metadata": {},
   "outputs": [],
   "source": [
    "outflow_pd = pd.read_csv(file_path(\"outflow.csv\"), skiprows = 6)\n",
    "outflow_pd = outflow_pd.set_index('Country')\n",
    "outflow_pd = outflow_pd.iloc[0:35,17]\n",
    "outflow_pd = outflow_pd.drop(labels = ['GRC'])\n",
    "outflow_pd"
   ]
  },
  {
   "cell_type": "code",
   "execution_count": null,
   "metadata": {},
   "outputs": [],
   "source": [
    "data = pd.merge(em_pd, outflow_pd, on = 'Country')\n",
    "data.rename(columns={\"0\": \"model\", \"18\": \"comparison\"})\n",
    "data"
   ]
  },
  {
   "cell_type": "code",
   "execution_count": null,
   "metadata": {},
   "outputs": [],
   "source": [
    "a = data.iloc[:,0].values\n",
    "a = np.round(a)\n",
    "a"
   ]
  },
  {
   "cell_type": "code",
   "execution_count": null,
   "metadata": {},
   "outputs": [],
   "source": [
    "new_list = []\n",
    "b = data.iloc[:,1].values\n",
    "\n",
    "for i in b:\n",
    "    new_list.append(float(i))\n",
    "    \n",
    "new_list"
   ]
  },
  {
   "cell_type": "code",
   "execution_count": null,
   "metadata": {},
   "outputs": [],
   "source": [
    "#new_list.sort()\n",
    "#print(new_list)"
   ]
  },
  {
   "cell_type": "code",
   "execution_count": null,
   "metadata": {},
   "outputs": [],
   "source": [
    "c = ['AUS', 'AUT', 'BEL', 'CAN', 'CHE', 'CHL', 'CZE', 'DEU', 'DNK', 'ESP', 'EST', 'FIN', 'FRA', \n",
    "    'GBR', 'HUN', 'IRL', 'IRL', 'ISL', 'ITA', 'JPN', 'KOR', 'LUX', 'LVA', 'MEX', 'NLD', \n",
    "    'NOR', 'POL', 'PRT', 'SVK', 'SVN', 'SWE', 'TUR', 'USA']\n",
    "c"
   ]
  },
  {
   "cell_type": "code",
   "execution_count": null,
   "metadata": {},
   "outputs": [],
   "source": [
    "#reordering data that John gave me in ascending order\n",
    "a.sort()\n",
    "print(a)"
   ]
  },
  {
   "cell_type": "code",
   "execution_count": null,
   "metadata": {},
   "outputs": [],
   "source": [
    "c_reordered = ['LUX', 'CHE', 'NOR', 'USA', 'IRL', 'IRL', 'ISL', 'AUS', 'SWE', 'DNK', 'AUT', 'MEX', 'DEU', \n",
    "               'NLD', 'TUR', 'FRA', 'POL', 'ITA', 'BEL', 'HUN', 'SVN', 'LVA', 'PRT', 'SVK', 'CZE', 'EST', \n",
    "               'FIN', 'ESP', 'CHL', 'KOR', 'GBR', 'JPN', 'CAN']"
   ]
  },
  {
   "cell_type": "code",
   "execution_count": null,
   "metadata": {},
   "outputs": [],
   "source": [
    "b_reordered = [21557,\n",
    "143100,\n",
    "58508,\n",
    "1183505,\n",
    "25977,\n",
    "53900,\n",
    "7859,\n",
    "218488,\n",
    "142986,\n",
    "54641,\n",
    "158746,\n",
    "35906,\n",
    "1719075,\n",
    "182160,\n",
    "380921,\n",
    "245663,\n",
    "107038,\n",
    "262929,\n",
    "103187,\n",
    "23803,\n",
    "20028,\n",
    "3448,\n",
    "46921,\n",
    "3610,\n",
    "34808,\n",
    "7693,\n",
    "27274,\n",
    "352174,\n",
    "135490,\n",
    "402203,\n",
    "455000,\n",
    "427585,\n",
    "296385]"
   ]
  },
  {
   "cell_type": "code",
   "execution_count": null,
   "metadata": {},
   "outputs": [],
   "source": [
    "x = np.arange(len(c_reordered))  # the label locations\n",
    "width = 0.35  # the width of the bars\n",
    "\n",
    "fig, ax = plt.subplots(figsize=(30,15))\n",
    "rects1 = ax.bar(x - width/2, a, width, label='Emigration Prediction of our Model in 2015')\n",
    "rects2 = ax.bar(x + width/2, b_reordered, width, label='OECD Outflow Data 2017')\n",
    "ax.set_xticks(x)\n",
    "ax.set_xticklabels(c_reordered, fontsize = 20)\n",
    "plt.legend(loc = 2, prop={\"size\":20})\n",
    "ax.set_title('Immigration Prediction of Our Model Compared to OECD Outflow Data', fontsize = 30, x = .5, y = 1.05)\n",
    "ax.set_ylabel('Number of emigrants (in millions)', fontsize = 25);\n",
    "ax.set_xlabel('Country', fontsize = 25)\n",
    "plt.yticks(fontsize=20)\n",
    "\n",
    "def autolabel(rects):\n",
    "    for rect in rects:\n",
    "        height = rect.get_height()\n",
    "        ax.annotate('{}'.format(height),\n",
    "                    xy=(rect.get_x() + rect.get_width() / 2, height),\n",
    "                    xytext=(0, 3),  # 3 points vertical offset\n",
    "                    textcoords=\"offset points\",\n",
    "                    ha='center', va='bottom', rotation = 'vertical', fontsize = 17, fontweight = 'bold')\n",
    "\n",
    "\n",
    "autolabel(rects1)\n",
    "autolabel(rects2)\n",
    "plt.show()"
   ]
  },
  {
   "cell_type": "code",
   "execution_count": null,
   "metadata": {},
   "outputs": [],
   "source": [
    "#fig = plt.figure()\n",
    "#ax = fig.add_axes([0,0,3,3])\n",
    "#ax.bar(c,new_list)\n",
    "#plt.show()"
   ]
  },
  {
   "cell_type": "code",
   "execution_count": null,
   "metadata": {},
   "outputs": [],
   "source": []
  }
 ],
 "metadata": {
  "kernelspec": {
   "display_name": "Python 3.8",
   "language": "python",
   "name": "python3"
  },
  "language_info": {
   "codemirror_mode": {
    "name": "ipython",
    "version": 3
   },
   "file_extension": ".py",
   "mimetype": "text/x-python",
   "name": "python",
   "nbconvert_exporter": "python",
   "pygments_lexer": "ipython3"
  }
 },
 "nbformat": 4,
 "nbformat_minor": 4
}
